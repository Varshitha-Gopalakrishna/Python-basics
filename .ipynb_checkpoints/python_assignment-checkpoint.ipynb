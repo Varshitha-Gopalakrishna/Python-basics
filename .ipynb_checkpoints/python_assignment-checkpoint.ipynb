{
 "cells": [
  {
   "cell_type": "code",
   "execution_count": null,
   "id": "9c31db57-1d38-465e-9bcd-39a856009244",
   "metadata": {},
   "outputs": [],
   "source": [
    "\"\"\"\n",
    "Q1. Explain the key features of Python that make it a popular choice for programming.\n",
    "Answer-\n",
    "    The following are the key features of python that make it a popular choice for programming-\n",
    "    1) Python is a popular programming language which has a simple syntax similar to english language.\n",
    "    2) Python can work on different platforms like Windows, Mac, Linux, Rasberry-pi etc.\n",
    "    3) Python has a syntax that allows developers to write programs in fewer lines compared to any other programming languages.\n",
    "    4) Python has a vast standard librabry that supports many common programming tasks from web development to data manipulation.\n",
    "    5) Python works on an interpreter system, meaning that code can be executed as soon as it is written.\n",
    "       This means prototyping can be very quick.\n",
    "    6) Due to its simplicity and readability, python allows for rapid development and prototyping.\n",
    "       Developers can quickly test and iterate on their ideas.\n",
    "\"\"\""
   ]
  },
  {
   "cell_type": "code",
   "execution_count": null,
   "id": "5b827e16-39e3-4ea4-88fd-4cb3d7010ebf",
   "metadata": {},
   "outputs": [],
   "source": [
    "\"\"\"\n",
    "Q2. Describe the role of predefined keywords in Python and provide examples of how they are used in a program.\n",
    "Answer-\n",
    "    Keywords are reserved words in python. They are predefined words that hold a special meaning and have specific purpose in python.\n",
    "    These keywords cannot be used as identifiers such as variable names or function names because they are already used to define syntax\n",
    "    and structure of the Python language itself.\n",
    "\"\"\""
   ]
  },
  {
   "cell_type": "code",
   "execution_count": 2,
   "id": "6b8fe56c-15de-4fcc-a1d8-7a8977cb2561",
   "metadata": {
    "tags": []
   },
   "outputs": [
    {
     "name": "stdout",
     "output_type": "stream",
     "text": [
      "\n",
      "Here is a list of the Python keywords.  Enter any keyword to get more help.\n",
      "\n",
      "False               class               from                or\n",
      "None                continue            global              pass\n",
      "True                def                 if                  raise\n",
      "and                 del                 import              return\n",
      "as                  elif                in                  try\n",
      "assert              else                is                  while\n",
      "async               except              lambda              with\n",
      "await               finally             nonlocal            yield\n",
      "break               for                 not                 \n",
      "\n"
     ]
    }
   ],
   "source": [
    "help(\"keywords\") #provides the list of python keywords."
   ]
  },
  {
   "cell_type": "code",
   "execution_count": 21,
   "id": "afa57655-7073-4f37-8b06-2d3f6806fbef",
   "metadata": {
    "tags": []
   },
   "outputs": [
    {
     "name": "stdout",
     "output_type": "stream",
     "text": [
      "6 is the largest number\n"
     ]
    }
   ],
   "source": [
    "# Examples of how predefined keywords are used in a program.\n",
    "#a] if, elif, else  (used for conditional statements)\n",
    "#   Write a program to find the largest of 3 numbers.\n",
    "    \n",
    "a = 3\n",
    "b = 6\n",
    "c = 5\n",
    "\n",
    "if (a >= b) and (a >= c):\n",
    "    print(a, \"is the largest number.\")\n",
    "    \n",
    "elif (b >= c):\n",
    "    print(b, \"is the largest number\")\n",
    "    \n",
    "else:\n",
    "    print(c, \"is the largest number\")"
   ]
  },
  {
   "cell_type": "code",
   "execution_count": 3,
   "id": "d0cbc95a-8dc2-46cb-841c-8baf2c636d56",
   "metadata": {},
   "outputs": [
    {
     "name": "stdout",
     "output_type": "stream",
     "text": [
      "1\n",
      "2\n",
      "3\n",
      "4\n",
      "5\n",
      "6\n",
      "7\n",
      "8\n",
      "9\n",
      "10\n"
     ]
    }
   ],
   "source": [
    "#b] for, while, break, continue (used for looping and flow control)\n",
    "#   using while loop Write a program to print numbers from 1 to 10 -\n",
    "    \n",
    "i = 1\n",
    "while i <= 10:\n",
    "    print(i)\n",
    "    i += 1"
   ]
  },
  {
   "cell_type": "code",
   "execution_count": 4,
   "id": "7a84e581-c00c-4b79-93cb-3f0458dc5035",
   "metadata": {},
   "outputs": [
    {
     "name": "stdout",
     "output_type": "stream",
     "text": [
      "1\n",
      "2\n",
      "3\n",
      "4\n"
     ]
    }
   ],
   "source": [
    "#Terminate the loop when the loop variable equals 5. \n",
    "#break statement in while loop\n",
    "\n",
    "i = 1\n",
    "while i <= 10:\n",
    "    if i == 5:\n",
    "        break    #break statement terminates the entire loop.       \n",
    "    print(i)\n",
    "    i += 1"
   ]
  },
  {
   "cell_type": "code",
   "execution_count": 6,
   "id": "ae8e4114-3767-41d2-bd2b-906f0b7fa66e",
   "metadata": {},
   "outputs": [
    {
     "name": "stdout",
     "output_type": "stream",
     "text": [
      "1\n",
      "3\n",
      "5\n",
      "7\n",
      "9\n"
     ]
    }
   ],
   "source": [
    "#Skip printing even numbers during the loop iteration.\n",
    "#continue statement in while loop\n",
    "    \n",
    "i = 1\n",
    "while i <= 10:\n",
    "    if i % 2 == 0:\n",
    "        i += 1\n",
    "        continue  #skips the current iteration.\n",
    "    print(i)\n",
    "    i += 1 "
   ]
  },
  {
   "cell_type": "code",
   "execution_count": 7,
   "id": "1b3d3b41-7088-4178-81e8-a4cc02026bc4",
   "metadata": {},
   "outputs": [
    {
     "name": "stdout",
     "output_type": "stream",
     "text": [
      "1\n",
      "2\n",
      "3\n",
      "4\n",
      "5\n",
      "6\n",
      "7\n",
      "8\n",
      "9\n",
      "10\n"
     ]
    }
   ],
   "source": [
    "# Write a program to print numbers from 1 to 10 using for loop  -\n",
    "\n",
    "for i in range(1, 11):\n",
    "    print(i)"
   ]
  },
  {
   "cell_type": "code",
   "execution_count": 8,
   "id": "a6f7e705-9b4d-4a12-8632-469787dc2955",
   "metadata": {},
   "outputs": [
    {
     "name": "stdout",
     "output_type": "stream",
     "text": [
      "1\n",
      "2\n",
      "3\n",
      "4\n"
     ]
    }
   ],
   "source": [
    "#Terminate the loop when the loop variable equals 5.\n",
    "#break statement in for loop\n",
    "\n",
    "for i in range(1, 11):\n",
    "    if i == 5:\n",
    "        break\n",
    "    print(i)"
   ]
  },
  {
   "cell_type": "code",
   "execution_count": 9,
   "id": "4e253509-10f5-42c6-af23-0dcdd9dc04ea",
   "metadata": {},
   "outputs": [
    {
     "name": "stdout",
     "output_type": "stream",
     "text": [
      "1\n",
      "3\n",
      "5\n",
      "7\n",
      "9\n"
     ]
    }
   ],
   "source": [
    "#Skip printing even numbers during the loop iteration.\n",
    "#continue statement in for loop\n",
    "\n",
    "for i in range(1, 11):\n",
    "    if i % 2 == 0:\n",
    "        continue\n",
    "    print(i)"
   ]
  },
  {
   "cell_type": "code",
   "execution_count": 22,
   "id": "22d67071-9496-4753-852c-7795e28aa513",
   "metadata": {},
   "outputs": [
    {
     "name": "stdout",
     "output_type": "stream",
     "text": [
      "is the person an adult?  True\n"
     ]
    }
   ],
   "source": [
    "#c] True, False [used to represent boolean values]\n",
    "#Example of using True, False in conditional statements:\n",
    "\n",
    "age = 25\n",
    "\n",
    "if age >= 18:\n",
    "    print(\"is the person an adult? \", True)\n",
    "\n",
    "else:\n",
    "    print(\"is the person an adult? \", False)"
   ]
  },
  {
   "cell_type": "code",
   "execution_count": 12,
   "id": "e3ffdb6d-ec48-4f13-99cf-df70a9ce4f66",
   "metadata": {},
   "outputs": [
    {
     "name": "stdout",
     "output_type": "stream",
     "text": [
      "True\n",
      "False\n"
     ]
    }
   ],
   "source": [
    "# When you compare 2 values, the expression is evaluated and python returns boolean answer.\n",
    "\n",
    "print(10 > 6)\n",
    "print(12 < 11)"
   ]
  },
  {
   "cell_type": "code",
   "execution_count": null,
   "id": "81fbe6fb-ecd5-4f3f-85d4-f6ab4e2189dd",
   "metadata": {},
   "outputs": [],
   "source": [
    "\"\"\"\n",
    "Q3.  Compare and contrast mutable and immutable objects in Python with example.\"\n",
    "Answer-\n",
    "     In python, objects are classified as either mutable or immutable based on whether their state or value can be changed after they \n",
    "     are created. Understanding the differences between mutable and immutable objects is crucial for efficient programming and understanding\n",
    "     how data manipulation works in python.\n",
    "\n",
    "Mutable objects-\n",
    "     Mutable objects can be changed after they are created. This means you can modify, add, or remove elements. Examples for mutable objects\n",
    "     are lists, sets, dictionaries.\n",
    "     \n",
    "Immutable objects-\n",
    "    Immutable objects cannot be changed after they are created. Examples for immutable objects are tuple, string, integer, float,      \n",
    "    frozenset.\n",
    "     \n",
    "Key differences between Mutable and Immutable objects-\n",
    "    1) Mutable objects can be changed after creation whereas immutable objects cannot be changed after creation.\n",
    "    2) Mutable objects are more efficient for large, frequently modified collections since changes do not create new objects whereas \n",
    "       immutable objects are less efficient in terms of memory for frequent changes as new objects are created.\n",
    "    3) Mutable objects are ideal for objects that need frequent modifications(e.g., lists, dictionaries) whereas immutable objects are ideal \n",
    "       for constants, keys in dictionaries, elements of sets and any scenario requiring assurance that the object won't change.\n",
    "    4) Mutable objects have methods that allow modifications like 'append', 'remove' etc. whereas immutable objects do not have methods that \n",
    "       modify the object in place, instead methods return new object.\n",
    "    5) Modifying a mutable object does not create a new object, it changes the existing object's state whereas in case of immutable objects \n",
    "       since they cannot change after they are created, they can be safely shared and used in different parts of a program, there is no risk \n",
    "       that its state will be altered elsewhere in the program.\n",
    "\"\"\""
   ]
  },
  {
   "cell_type": "code",
   "execution_count": 13,
   "id": "67b366be-eb1f-4055-8f83-bdeaca6f1e8a",
   "metadata": {},
   "outputs": [
    {
     "name": "stdout",
     "output_type": "stream",
     "text": [
      "[1, 8, 3, 4, 5, 6, 7]\n",
      "[1, 8, 3, 4, 5, 6, 7, 10]\n",
      "[1, 3, 4, 5, 6, 7, 10]\n"
     ]
    }
   ],
   "source": [
    "#Example of Mutable object: List\n",
    "\n",
    "my_list = [1, 2, 3, 4, 5, 6, 7]\n",
    "\n",
    "my_list[1] = 8         #Modifying an element\n",
    "print(my_list)\n",
    "\n",
    "my_list.append(10)      #Adding an element\n",
    "print(my_list)\n",
    "\n",
    "my_list.remove(8)       #Removing an element\n",
    "print(my_list)"
   ]
  },
  {
   "cell_type": "code",
   "execution_count": 14,
   "id": "28545a3e-ed21-459a-a72d-292da91076d8",
   "metadata": {},
   "outputs": [
    {
     "name": "stdout",
     "output_type": "stream",
     "text": [
      "No\n",
      "Go\n"
     ]
    }
   ],
   "source": [
    "#Example of an Immutable object: String\n",
    "\n",
    "my_string = \"No\"\n",
    "\n",
    "new_string = my_string.replace(\"N\", \"G\")  #creates a new string\n",
    "\n",
    "print(my_string)            #original string remains unchanged\n",
    "print(new_string)"
   ]
  },
  {
   "cell_type": "code",
   "execution_count": null,
   "id": "4c603ced-2041-4a55-9bb3-07be39f941f5",
   "metadata": {},
   "outputs": [],
   "source": [
    "\"\"\"\n",
    "Q4. Discuss the different types of operators in Python and provide examples of how they are used.\n",
    "Answer-\n",
    "    The following are the seven Operators in python:\n",
    "    1) Arithmatic operators - They are used to perform mathematical operations. There are 7 types of Arithmatic operators-\n",
    "        (1) Addition '+' \n",
    "        (2) Subtraction '-'\n",
    "        (3) Multiplication '*'\n",
    "        (4) Division '/'\n",
    "        (5) Floor Division '//'\n",
    "        (6) Modulus '%'\n",
    "        (7) Exponential '**'\n",
    "    2) Comparision operators - They are used to compare two values. They return either 'True' or 'False'. \n",
    "       There are 6 types of Comparision operators-\n",
    "        (1) Equal to '=='\n",
    "        (2) Not equal to '!='\n",
    "        (3) Greater than '>'\n",
    "        (4) Less than '<'\n",
    "        (5) Greater than or equal to '>='\n",
    "        (6) Less than or equal to '<='\n",
    "    3) Logical operators - They are used to perform logical operations on Boolean values. There are 3 types of Logical operators-\n",
    "        (1) AND 'and'\n",
    "        (2) OR 'or'\n",
    "        (3) NOT 'not'\n",
    "    4) Bitwise operators - They are used to perform bit level operations. There are 6 types of bitwise operators-\n",
    "        (1) Bitwise and '&'\n",
    "        (2) Bitwise or '|'\n",
    "        (3) Bitwise not '~'\n",
    "        (4) Bitwise xor '^'\n",
    "        (5) Left shift '<<'\n",
    "        (6) Right shift '>>'\n",
    "    5) Assignment operators - They are used to assign values to variables. There are 5 types of Assignment operators-\n",
    "        (1) Assignment '='\n",
    "        (2) Addition Assignment '+='\n",
    "        (3) Subtraction Assignment '-='\n",
    "        (4) Multiplication Assignment '*='\n",
    "        (5) Division Assignment '/='\n",
    "    6) Membership operators - They are used to test whether a value is found within a sequence such as string, tuple or list. \n",
    "       There are 2 types of membership operators- \n",
    "        (1) in\n",
    "        (2) not in\n",
    "    7) Identity operators - They are used to compare memory locations of two objects. There are 2 types of identity operators-\n",
    "        (1) is\n",
    "        (2) is not\n",
    "\"\"\""
   ]
  },
  {
   "cell_type": "code",
   "execution_count": 15,
   "id": "33fcfa64-6fdf-47a5-86cc-44b3b39fcfb3",
   "metadata": {},
   "outputs": [
    {
     "name": "stdout",
     "output_type": "stream",
     "text": [
      "15\n",
      "5\n",
      "50\n",
      "2.0\n",
      "2\n",
      "0\n",
      "100000\n"
     ]
    }
   ],
   "source": [
    "#Examples of how different types of operators work in python.\n",
    "\n",
    "#1) Arithmatic operators-\n",
    "\n",
    "a = 10\n",
    "b = 5\n",
    " \n",
    "print(a + b)  # Addition '+' Adds two operands.\n",
    "\n",
    "print(a - b)  # Subtraction '-' Subtracts the second operand from the first.\n",
    "\n",
    "print(a * b)  # Multiplication '*' Multiplies two operands.\n",
    "\n",
    "print(a / b)   #Division '/' Divides the first operand by the second, returns float value\n",
    "\n",
    "print(a // b)  #Floor Division '//' Divides the first operand by the second, returns int value\n",
    "\n",
    "print(a % b)   #Modulus '%' Returns the remainder of the division.\n",
    "\n",
    "print(a ** b)  #Exponential '**' Raises the first operand to the power of the second."
   ]
  },
  {
   "cell_type": "code",
   "execution_count": 16,
   "id": "020cc0a5-f500-495f-856a-06107f76be02",
   "metadata": {},
   "outputs": [
    {
     "name": "stdout",
     "output_type": "stream",
     "text": [
      "False\n",
      "True\n",
      "False\n",
      "True\n",
      "False\n",
      "True\n"
     ]
    }
   ],
   "source": [
    "#2) comparision operators-\n",
    "\n",
    "a = 12\n",
    "b = 15\n",
    "\n",
    "print(a == b)    # Equal to '==' Checks if the values of two operands are equal.\n",
    "\n",
    "print(a != b)    # Not equal to '!=' Checks if the values of two operands are not equal.\n",
    "\n",
    "print(a > b)     # Greater than '>' Checks if the value of the left operand is greater than the right operand.\n",
    "\n",
    "print(a < b)     # Less than '<' Checks if the value of the left operand is less than the right operand.\n",
    "\n",
    "print(a >= b)    # Greater than or equal to '>=' Checks if the value of the left operand is greater than or equal to the right operand.\n",
    "\n",
    "print(a <= b)    # Less than or equal to '<=' Checks if the value of the left operand is less than or equal to the right operand."
   ]
  },
  {
   "cell_type": "code",
   "execution_count": 7,
   "id": "974f7c3b-54ff-4d58-ad72-dfb19a4ebb23",
   "metadata": {},
   "outputs": [
    {
     "name": "stdout",
     "output_type": "stream",
     "text": [
      "True\n",
      "True\n",
      "False\n"
     ]
    }
   ],
   "source": [
    "#3) Logical operators\n",
    "\n",
    "a = 66\n",
    "b = 70\n",
    "\n",
    "print(a > 60 and b < 100)  #'and' Returns 'True' if both operands are true.\n",
    "\n",
    "print(a > 80 or b < 100)  #'or' Returns 'True' if at least one of the operands is true.\n",
    "\n",
    "print(not(a < b))  #'not' Reverses the logical state of its operand."
   ]
  },
  {
   "cell_type": "code",
   "execution_count": 9,
   "id": "590a05c8-be38-4835-93da-85f9631de758",
   "metadata": {},
   "outputs": [
    {
     "name": "stdout",
     "output_type": "stream",
     "text": [
      "2\n",
      "7\n",
      "-8\n",
      "5\n",
      "8\n",
      "0\n"
     ]
    }
   ],
   "source": [
    "#4) Bitwise operators\n",
    "\n",
    "a = 2\n",
    "b = 7\n",
    "\n",
    "print(a & b)     # Bitwise and '&' Performs a bitwise AND operation.\n",
    "\n",
    "print(a | b)     # Bitwise or '|' Performs a bitwise OR operation.\n",
    "\n",
    "print(~ b)       # Bitwise not '~' Performs a bitwise NOT operation.\n",
    "\n",
    "print(a ^ b)     # Bitwise xor '^' Performs a bitwise XOR operation.\n",
    "\n",
    "print(a << 2)    # Left shift'<<' Shifts the bits of the left operand to the left by the number of positions specified by the right operand.\n",
    "\n",
    "print(a >> 3)    # Right shift'>>' Shifts the bits of the left operand to the right by the number of positions specified by the right operand."
   ]
  },
  {
   "cell_type": "code",
   "execution_count": 17,
   "id": "c06db6d7-1840-42b3-afa4-148fcec27193",
   "metadata": {},
   "outputs": [
    {
     "name": "stdout",
     "output_type": "stream",
     "text": [
      "9\n",
      "11\n",
      "10\n",
      "10\n",
      "10\n"
     ]
    }
   ],
   "source": [
    "#5) Assignment operators\n",
    "\n",
    "num = 9         # Assignment '=' Assigns the value of the right operand to the left operand.\n",
    "print(num)\n",
    "\n",
    "num += 2        # Addition Assignment '+=' Adds the right operand to the left operand and assigns the result to the left operand.\n",
    "print(num)\n",
    "\n",
    "num -= 1        # Subtraction Assignment '-=' Subtracts the right operand from the left operand and assigns the result to the left operand. \n",
    "print(num)\n",
    "\n",
    "a *= 4         # Multiplication Assignment '*=' Multiplies the right operand by the left operand and assigns the result to the left operand.\n",
    "print(num)\n",
    "\n",
    "a /= 2          # Division Assignment '/=' Divides the left operand by the right operand and assigns the result to the left operand.\n",
    "print(num)"
   ]
  },
  {
   "cell_type": "code",
   "execution_count": 19,
   "id": "7233f9b4-df43-4e32-9a84-b12fcc4e99f4",
   "metadata": {},
   "outputs": [
    {
     "name": "stdout",
     "output_type": "stream",
     "text": [
      "True\n",
      "False\n"
     ]
    }
   ],
   "source": [
    "#6) Membership operators\n",
    "\n",
    "list1 = [\"carrot\", \"Brinjal\", \"Tomato\"]\n",
    "\n",
    "print(\"Tomato\" in list1)              # in: Returns True if the value is found in the sequence \n",
    "\n",
    "print(\"carrot\" not in list1)          # not in: Returns True if the value is not found in the sequence "
   ]
  },
  {
   "cell_type": "code",
   "execution_count": 21,
   "id": "a657dc55-4aba-4e9f-a2e9-195bd38b239f",
   "metadata": {},
   "outputs": [
    {
     "name": "stdout",
     "output_type": "stream",
     "text": [
      "False\n",
      "True\n"
     ]
    }
   ],
   "source": [
    "#7) Identity operators\n",
    "\n",
    "A = [\"Table\", \"Chair\", 1.3, 6666, True]\n",
    "B = (\"Table\", \"Chair\", 1.3, 6666, True)\n",
    "\n",
    "print(A is B)          #is: Returns True if both operands refer to the same object.\n",
    "\n",
    "print(A is not B)      #is not: Returns True if both operands do not refer to the same object."
   ]
  },
  {
   "cell_type": "code",
   "execution_count": null,
   "id": "4164211b-33e9-4c02-951f-9b947bebfb82",
   "metadata": {},
   "outputs": [],
   "source": [
    "\"\"\"\n",
    "Q5. Explain the concept of type casting in Python with examples.\n",
    "Answer-\n",
    "    Type casting, also known as type conversion, is the process of converting a value from one data type to another. \n",
    "    In Python, this can be done using built-in functions. Type casting is useful when you need to perform operations on different \n",
    "    data types or when you want to convert data to a compatible type for certain operations.\n",
    "    \n",
    "    There are 2 types of type casting in python-\n",
    "    \n",
    "    1) Implicit type casting - It is an automatic type conversion where python automatically converts one data type to another without any \n",
    "       explicit instruction from the user. This usually happens in expressions containing mixed data types.\n",
    "       \n",
    "    2) Explicit type casting - It is a manual type conversion which requires the use of built-in functions to convert a value from one type \n",
    "       to another. Common functions for explicit type casting include int(), float(), str(), list(), tuple(), and dict().\n",
    "\"\"\""
   ]
  },
  {
   "cell_type": "code",
   "execution_count": 23,
   "id": "808385da-10c5-46e2-8cea-1b5c089626fe",
   "metadata": {},
   "outputs": [
    {
     "name": "stdout",
     "output_type": "stream",
     "text": [
      "9.2\n",
      "<class 'float'>\n"
     ]
    }
   ],
   "source": [
    "#Examples of Implicit type casting in python\n",
    "\n",
    "a = 3       #this number is int type\n",
    "b = 6.2     #this number is a float type\n",
    "c = a + b\n",
    "\n",
    "print(c)\n",
    "print(type(c))\n",
    "\n",
    "#insight- in this example, a (int type) is automatically converted to a float during the addition operation because b is a float."
   ]
  },
  {
   "cell_type": "code",
   "execution_count": 2,
   "id": "231c8119-97d9-4ffa-8c0c-953b6880e159",
   "metadata": {},
   "outputs": [
    {
     "name": "stdout",
     "output_type": "stream",
     "text": [
      "98.0\n",
      "<class 'float'>\n",
      "12\n",
      "<class 'int'>\n",
      "98\n",
      "<class 'str'>\n",
      "['p', 'w', 's', 'k', 'i', 'l', 'l', 's']\n",
      "<class 'list'>\n",
      "(1, '2', 3.0)\n",
      "<class 'tuple'>\n",
      "[1, '2', 3.0]\n",
      "<class 'list'>\n"
     ]
    }
   ],
   "source": [
    "#Examples of Explicit type casting in python\n",
    "\n",
    "\n",
    "A = 98                      #int\n",
    "B = 12.2                    #float\n",
    "c = \"16\"                    #str\n",
    "D = [1, \"2\", 3.0]           #list\n",
    "E = (1, \"2\", 3.0)           #tuple\n",
    "\n",
    "# int to float\n",
    "float_type = float(A)      \n",
    "print(float_type)\n",
    "print(type(float_type))\n",
    "#insight- in this example 'A' which is an integer is converted into a float using float().\n",
    "\n",
    "#float to int\n",
    "int_type = int(B)\n",
    "print(int_type)\n",
    "print(type(int_type))\n",
    "#insight- in this example 'B' which is a float value is converted into integer using int().\n",
    "\n",
    "#int to str\n",
    "str_type = str(A)\n",
    "print(str_type)\n",
    "print(type(str_type))\n",
    "#insight- in this example 'A' which is an integer is converted into a string using str().\n",
    "\n",
    "#str to list\n",
    "company = \"pwskills\"\n",
    "list_type = list(company)\n",
    "print(list_type)\n",
    "print(type(list_type))\n",
    "#insight- in this example 'company' which is a string is converted into a List using list().\n",
    "\n",
    "#list to tuple\n",
    "tup_type = tuple(D)\n",
    "print(tup_type)\n",
    "print(type(tup_type))\n",
    "#insight- in this example 'D' which is a list is converted into a tuple using tuple().\n",
    "\n",
    "#tuple to list\n",
    "type_list = list(E)\n",
    "print(type_list)\n",
    "print(type(type_list))\n",
    "#insight- in this example 'E' which is a tuple is converted into a list using list()."
   ]
  },
  {
   "cell_type": "code",
   "execution_count": null,
   "id": "3454f53c-52cc-454b-8699-694ecfa77e67",
   "metadata": {},
   "outputs": [],
   "source": [
    "\"\"\"\n",
    "Q6. How do conditional statements work in Python? Illustrate with examples.\n",
    "Answer-\n",
    "    Conditional statements allow you to control the flow of your program based on certain conditions. Conditional statements helps you to\n",
    "    code decisions based on some preconditions.There are 4 types of conditional statements-\n",
    "    1) If - This executes a block of code if the condition is true.\n",
    "    \n",
    "    2) If-else - This is a fundamental control structure in programming that allows you to execute one block of code if a condition is true\n",
    "       and another block of code if the condition is false.\n",
    "    \n",
    "    3) If-elif-else - This statement in programming is an extended version of the if-else statement that allows for multiple conditions to  \n",
    "       be evaluated sequentially. This construct enables the execution of different blocks of code depending on which condition is met \n",
    "       first.\n",
    "    \n",
    "    4) Nested if-else - You can nest 'if' statements inside other 'if' statements to create more complex conditions.\n",
    "\"\"\""
   ]
  },
  {
   "cell_type": "code",
   "execution_count": 20,
   "id": "c553fdd8-6e2d-4153-8398-ff8e137a2a3a",
   "metadata": {},
   "outputs": [
    {
     "name": "stdout",
     "output_type": "stream",
     "text": [
      "x is greater than 5\n"
     ]
    }
   ],
   "source": [
    "#Example for if statement\n",
    "\n",
    "x = 10\n",
    "if x > 5:\n",
    "    print(\"x is greater than 5\")"
   ]
  },
  {
   "cell_type": "code",
   "execution_count": 5,
   "id": "589adc21-64b1-4ff2-af35-a5aa9a488f2e",
   "metadata": {},
   "outputs": [
    {
     "name": "stdout",
     "output_type": "stream",
     "text": [
      "i will play cricket\n"
     ]
    }
   ],
   "source": [
    "#Example for if-else statement\n",
    "\n",
    "weather = \"sunny\"\n",
    "\n",
    "if weather == \"sunny\":                #if condition is true, executes if block.\n",
    "    print(\"i will play cricket\")\n",
    "else:                                 #if condition is false, executes else block.\n",
    "    print(\"I will watch cartoon\")"
   ]
  },
  {
   "cell_type": "code",
   "execution_count": 1,
   "id": "efa758a5-f341-446b-98c4-f2d6ecc63269",
   "metadata": {},
   "outputs": [
    {
     "name": "stdout",
     "output_type": "stream",
     "text": [
      "You are an adult\n"
     ]
    }
   ],
   "source": [
    "#Example for if-elif-else statement\n",
    "#in real life we may have multiple condition. in this scenario, we use if-elif-else statement\n",
    "\n",
    "age = 50\n",
    "\n",
    "if age < 18:\n",
    "    print(\"You are a minor\")\n",
    "elif (age >= 18) and (age <= 60):\n",
    "    print(\"You are an adult\")\n",
    "else:\n",
    "    print(\"You are a senior citizen\")"
   ]
  },
  {
   "cell_type": "code",
   "execution_count": 19,
   "id": "d619fd5e-f71b-480e-b48c-8fa268efcb6e",
   "metadata": {},
   "outputs": [
    {
     "name": "stdout",
     "output_type": "stream",
     "text": [
      "62 is an even number but is not a multiple of 6\n"
     ]
    }
   ],
   "source": [
    "#Example for nested if-else statement\n",
    "\n",
    "x = 62\n",
    "if x > 0:\n",
    "    if (x % 2 == 0):\n",
    "        if (x % 6 == 0):\n",
    "            print(x,\"is multiple of 6\")\n",
    "        else:\n",
    "            print(x,\"is an even number but is not a multiple of 6\")\n",
    "    else:\n",
    "        print(x,\"is an odd number\")\n",
    "else:\n",
    "    print(X,\"is a negative number\")"
   ]
  },
  {
   "cell_type": "code",
   "execution_count": null,
   "id": "08a222f6-873e-45d0-88a9-5cbdc0636943",
   "metadata": {},
   "outputs": [],
   "source": [
    "\"\"\"\n",
    "Q7. Describe the different types of loops in Python and their use cases with examples.\n",
    "Answer-\n",
    "    Loops are fundamental control structures in programming that allow you to execute a block of code repeatedly, either a specific number  \n",
    "    of times or until a certain condition is met. They are essential for tasks that require iteration, such as processing items in a list,\n",
    "    repeating operations, or generating repetitive outputs.\n",
    "    \n",
    "    There are 2 types of loops in python-\n",
    "    1) for loop - A for loop is used to iterate over a sequence (such as a list, tuple, string, or range) or any other iterable object. It\n",
    "       is particularly useful when you know the number of iterations in advance.\n",
    "                  \n",
    "    2) while loop- A while loop repeatedly executes a block of code as long as a given condition is true. It is useful when the number of \n",
    "       iterations is not known in advance and depends on a condition. while is a keyword used for a while loop.\n",
    "\"\"\""
   ]
  },
  {
   "cell_type": "code",
   "execution_count": 6,
   "id": "78eeea3d-fb78-4dc5-82ff-03c26e3cdf1b",
   "metadata": {},
   "outputs": [
    {
     "name": "stdout",
     "output_type": "stream",
     "text": [
      "mango\n",
      "banana\n",
      "orange\n",
      "guava\n"
     ]
    }
   ],
   "source": [
    "#use cases of for loop with examples.\n",
    "#1) iteration over a list using for loop.\n",
    "\n",
    "shopping = [\"mango\", \"banana\", \"orange\", \"guava\"]\n",
    "\n",
    "for el in shopping:\n",
    "    print(el)\n",
    "    \n",
    "#insight- in this example, we can see how for loop is used to iterate over a list of strings."
   ]
  },
  {
   "cell_type": "code",
   "execution_count": 12,
   "id": "9c476aa3-c608-4bd3-8fb8-51f73ec3c1bd",
   "metadata": {},
   "outputs": [
    {
     "name": "stdout",
     "output_type": "stream",
     "text": [
      "106, 1.06, India, True, (10+12j), "
     ]
    }
   ],
   "source": [
    "#2) iteration over a tuple using for loop.\n",
    "\n",
    "a = (106, 1.06, \"India\", True, (10 + 12j))\n",
    "\n",
    "for i in a:\n",
    "    print(i, end = \", \")\n",
    "    \n",
    "#insight- here, we can see how we can iterate and access all types of data stored in a tuple using for loop."
   ]
  },
  {
   "cell_type": "code",
   "execution_count": 13,
   "id": "36436012-4f34-4245-82e6-f1ae300bef1a",
   "metadata": {},
   "outputs": [
    {
     "name": "stdout",
     "output_type": "stream",
     "text": [
      "H\n",
      "e\n",
      "l\n",
      "l\n",
      "o\n",
      " \n",
      "w\n",
      "o\n",
      "r\n",
      "l\n",
      "d\n",
      "!\n"
     ]
    }
   ],
   "source": [
    "#3) iteration over a string using for loop.\n",
    "\n",
    "my_str = \"Hello world!\"\n",
    "\n",
    "for x in my_str:\n",
    "    print(x)\n",
    "    \n",
    "#insight- here, a string value is assigned to a variable my_str. we can access all the characters in the variable by iterating over my_str using for loop"
   ]
  },
  {
   "cell_type": "code",
   "execution_count": 15,
   "id": "e048471f-33f3-42a8-8d3a-bd0fea101bd3",
   "metadata": {},
   "outputs": [
    {
     "name": "stdout",
     "output_type": "stream",
     "text": [
      "1\n",
      "3\n",
      "5\n",
      "7\n",
      "9\n"
     ]
    }
   ],
   "source": [
    "#4) iteration over range of numbers using for loop.\n",
    "\n",
    "for i in range(1,10,2):   #range(start,stop,step)\n",
    "    print(i)\n",
    "    \n",
    "#insight- in this example, numbers in range 1 to 10(10 is excluded) are printed stepping 2 numbers for each iteration,\n",
    "#therefore odd numbers will be printed from 1 to 10."
   ]
  },
  {
   "cell_type": "code",
   "execution_count": 18,
   "id": "8b01112d-c3cd-49c3-81b0-56f877dca5fd",
   "metadata": {},
   "outputs": [
    {
     "name": "stdout",
     "output_type": "stream",
     "text": [
      "*\n",
      "**\n",
      "***\n",
      "****\n"
     ]
    }
   ],
   "source": [
    "#5) print a right angle triangle with * using for loop.\n",
    "\n",
    "for i in range(4):\n",
    "    for x in range(i + 1):\n",
    "        print(\"*\", end= \"\")\n",
    "    print()"
   ]
  },
  {
   "cell_type": "code",
   "execution_count": 20,
   "id": "17fe51ed-336e-4586-9096-0f10f774a387",
   "metadata": {},
   "outputs": [
    {
     "name": "stdout",
     "output_type": "stream",
     "text": [
      "***\n",
      "***\n",
      "***\n"
     ]
    }
   ],
   "source": [
    "#6) print a 3*3 square with * using for loop.\n",
    "\n",
    "for i in range(3):\n",
    "    for x in range(3):\n",
    "        print(\"*\", end= \"\")\n",
    "    print()"
   ]
  },
  {
   "cell_type": "code",
   "execution_count": 4,
   "id": "bb908820-87b7-4ca6-8574-a49ed60818d9",
   "metadata": {},
   "outputs": [
    {
     "name": "stdout",
     "output_type": "stream",
     "text": [
      "0\n",
      "1\n",
      "2\n",
      "3\n",
      "4\n",
      "5\n"
     ]
    }
   ],
   "source": [
    "#use cases of while loop with examples.\n",
    "#1) print numbers from 0 to 5 using while loop.\n",
    "count = 0\n",
    "\n",
    "while count <= 5:\n",
    "    print(count)\n",
    "    count += 1"
   ]
  },
  {
   "cell_type": "code",
   "execution_count": 17,
   "id": "86d0877f-a46f-44fe-bb2f-f1e9c2eb77df",
   "metadata": {},
   "outputs": [
    {
     "name": "stdout",
     "output_type": "stream",
     "text": [
      "*\n",
      "**\n",
      "***\n",
      "****\n"
     ]
    }
   ],
   "source": [
    "#) print a right angle triangle with * using while loop.\n",
    "\n",
    "row = 1\n",
    "while row <= 4:\n",
    "    col = 1\n",
    "    while col <= row:\n",
    "        print(\"*\", end = \"\")\n",
    "        col += 1\n",
    "    print()\n",
    "    row += 1"
   ]
  },
  {
   "cell_type": "code",
   "execution_count": 2,
   "id": "52b9b42c-5944-4865-9f89-fabef35b6229",
   "metadata": {},
   "outputs": [
    {
     "name": "stdout",
     "output_type": "stream",
     "text": [
      "****\n",
      "***\n",
      "**\n",
      "*\n"
     ]
    }
   ],
   "source": [
    "# we can also print a reverse triangle with * using while loop.\n",
    "\n",
    "row = 1\n",
    "while row <= 4:\n",
    "    col = 4\n",
    "    while col >= row:\n",
    "        print(\"*\", end = \"\")\n",
    "        col -= 1\n",
    "    print()\n",
    "    row += 1"
   ]
  },
  {
   "cell_type": "code",
   "execution_count": 3,
   "id": "a112a673-260c-40a6-845b-4799a1d950d6",
   "metadata": {},
   "outputs": [
    {
     "name": "stdout",
     "output_type": "stream",
     "text": [
      "***\n",
      "***\n",
      "***\n"
     ]
    }
   ],
   "source": [
    "# print a 3*3 square with * using while loop.\n",
    "\n",
    "row = 1\n",
    "while row <= 3:\n",
    "    col = 1 \n",
    "    while col <= 3:\n",
    "        print(\"*\", end = \"\")\n",
    "        col += 1\n",
    "    print()\n",
    "    row += 1"
   ]
  }
 ],
 "metadata": {
  "kernelspec": {
   "display_name": "Python 3 (ipykernel)",
   "language": "python",
   "name": "python3"
  },
  "language_info": {
   "codemirror_mode": {
    "name": "ipython",
    "version": 3
   },
   "file_extension": ".py",
   "mimetype": "text/x-python",
   "name": "python",
   "nbconvert_exporter": "python",
   "pygments_lexer": "ipython3",
   "version": "3.10.8"
  }
 },
 "nbformat": 4,
 "nbformat_minor": 5
}
